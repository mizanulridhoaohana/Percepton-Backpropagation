{
 "cells": [
  {
   "cell_type": "markdown",
   "metadata": {},
   "source": [
    "# Perceptron (Single Layer)"
   ]
  },
  {
   "cell_type": "markdown",
   "metadata": {},
   "source": [
    "Import Library"
   ]
  },
  {
   "cell_type": "code",
   "execution_count": 1,
   "metadata": {},
   "outputs": [],
   "source": [
    "import numpy as np \n",
    "from sklearn.model_selection import train_test_split\n",
    "from sklearn.neural_network import MLPClassifier\n",
    "from sklearn.metrics import confusion_matrix\n",
    "from sklearn.metrics import classification_report\n",
    "from sklearn.metrics import accuracy_score"
   ]
  },
  {
   "cell_type": "markdown",
   "metadata": {},
   "source": [
    "Menginisialisasikan dataset, weight dan kelas yang akan diprediksi dalam model"
   ]
  },
  {
   "cell_type": "code",
   "execution_count": 2,
   "metadata": {},
   "outputs": [],
   "source": [
    "dataset =[[1, 0, 0, 0, 1, 0],\n",
    "          [0, 1, 1, 1, 1, 0],\n",
    "          [0, 0, 1, 0, 0, 1],\n",
    "          [0, 0, 1, 0, 1, 0],\n",
    "          [0, 1, 0, 0, 0, 1],\n",
    "          [1, 0, 1, 0, 1, 1],\n",
    "          [0, 0, 1, 1, 0, 0],\n",
    "          [0, 1, 0, 1, 0, 0],\n",
    "          [1, 0, 0, 1, 0, 1],\n",
    "          [0, 1, 1, 1, 1, 1],\n",
    "          [0, 0, 0, 1, 1, 0.9],\n",
    "          [0, 0, 0, 1, 0.8, 1],\n",
    "          [0, 0, 0, 1, 1, 0.75],\n",
    "          [0, 0, 0, 1, 1, 1]]\n",
    "    \n",
    "weights = [0.0, 0.0, 0.0, 0.0, 0.0, 0.0 ]\n",
    "class_target = ['A', 'B', 'A', 'A', 'A', 'A', 'B', 'B', 'B', 'B', 'C', 'C', 'C', 'C']"
   ]
  },
  {
   "cell_type": "markdown",
   "metadata": {},
   "source": [
    "Menerjemahkan class target ke dalam bentuk integer, dimana:\n",
    "A = 1,\n",
    "B = -1,\n",
    "C = 0"
   ]
  },
  {
   "cell_type": "code",
   "execution_count": 3,
   "metadata": {},
   "outputs": [],
   "source": [
    "# Membuat matrix baru\n",
    "class_target = np.array(class_target)\n",
    "dataTr = np.arange(len(class_target))\n",
    "dataTr[:] = 0\n",
    "\n",
    "# Menerjemahkan class ke dalam bentuk integer\n",
    "iD_dataTr = np.where(class_target == 'A')\n",
    "dataTr[iD_dataTr] = 1\n",
    "iD_dataTr = np.where(class_target == 'B')\n",
    "dataTr[iD_dataTr] = -1\n",
    "dataTr = dataTr.tolist()"
   ]
  },
  {
   "cell_type": "code",
   "execution_count": 4,
   "metadata": {},
   "outputs": [
    {
     "data": {
      "text/plain": [
       "[1, -1, 1, 1, 1, 1, -1, -1, -1, -1, 0, 0, 0, 0]"
      ]
     },
     "execution_count": 4,
     "metadata": {},
     "output_type": "execute_result"
    }
   ],
   "source": [
    "dataTr"
   ]
  },
  {
   "cell_type": "markdown",
   "metadata": {},
   "source": [
    "Kode di bawah ini digunakan untuk melakukan transpose pada dataset, kemudian menambahkan dataTr sebagai baris terakhir dari dataset yang sudah ditranspose"
   ]
  },
  {
   "cell_type": "code",
   "execution_count": 5,
   "metadata": {},
   "outputs": [],
   "source": [
    "transpseX = list(map(list, zip(*dataset)))\n",
    "transpseX.append(dataTr)\n",
    "dataInpTr = list(map(list, zip(*transpseX)))"
   ]
  },
  {
   "cell_type": "code",
   "execution_count": 6,
   "metadata": {},
   "outputs": [
    {
     "data": {
      "text/plain": [
       "[[1, 0, 0, 0, 1, 0, 1],\n",
       " [0, 1, 1, 1, 1, 0, -1],\n",
       " [0, 0, 1, 0, 0, 1, 1],\n",
       " [0, 0, 1, 0, 1, 0, 1],\n",
       " [0, 1, 0, 0, 0, 1, 1],\n",
       " [1, 0, 1, 0, 1, 1, 1],\n",
       " [0, 0, 1, 1, 0, 0, -1],\n",
       " [0, 1, 0, 1, 0, 0, -1],\n",
       " [1, 0, 0, 1, 0, 1, -1],\n",
       " [0, 1, 1, 1, 1, 1, -1],\n",
       " [0, 0, 0, 1, 1, 0.9, 0],\n",
       " [0, 0, 0, 1, 0.8, 1, 0],\n",
       " [0, 0, 0, 1, 1, 0.75, 0],\n",
       " [0, 0, 0, 1, 1, 1, 0]]"
      ]
     },
     "execution_count": 6,
     "metadata": {},
     "output_type": "execute_result"
    }
   ],
   "source": [
    "dataInpTr"
   ]
  },
  {
   "cell_type": "markdown",
   "metadata": {},
   "source": [
    "Menggunakan fungsi aktivasi Bipolar dalam code dan membuat fungsi prediksi untuk mengupdate nilai y pada setiap iterasi\n"
   ]
  },
  {
   "cell_type": "code",
   "execution_count": 7,
   "metadata": {},
   "outputs": [],
   "source": [
    "# Fungsi aktivasi dengan fungsi bipolar\n",
    "def bipolar_step_function(threshold=0, x=0):\n",
    "    return 1.0 if x >= threshold else -1.0\n",
    "\n",
    "# Membuat prediksi dengan weights\n",
    "def prediction(row, weights, threshold=0.0):\n",
    "    # Bias\n",
    "    y_in = weights[0]\n",
    "    for i in range(len(row) - 1):\n",
    "        y_in += weights[i + 1] * row[i]\n",
    "    y = bipolar_step_function(threshold, y_in)\n",
    "    return y"
   ]
  },
  {
   "cell_type": "code",
   "execution_count": 8,
   "metadata": {},
   "outputs": [
    {
     "name": "stdout",
     "output_type": "stream",
     "text": [
      "1.0\n"
     ]
    }
   ],
   "source": [
    "# Mencoba Activation Function\n",
    "bipolar_test = bipolar_step_function(0,5)\n",
    "print(bipolar_test)"
   ]
  },
  {
   "cell_type": "code",
   "execution_count": 9,
   "metadata": {},
   "outputs": [
    {
     "name": "stdout",
     "output_type": "stream",
     "text": [
      "[1, 0, 1, 0, 1, 1]\n",
      "[0.0, 0.0, 0.0, 0.0, 0.0, 0.0]\n",
      "Expected=1, Predicted=1\n"
     ]
    }
   ],
   "source": [
    "# Mencoba fungsi prediksi\n",
    "t = dataset[5]\n",
    "print(t)\n",
    "print(weights)\n",
    "prediction1 = prediction(t, weights)\n",
    "print(\"Expected=%d, Predicted=%d\" % (t[-1], prediction1))"
   ]
  },
  {
   "cell_type": "markdown",
   "metadata": {},
   "source": [
    "Membuat skema Training menggunakan metode Perceptron dan menghitung nilai error pada setiap iterasi"
   ]
  },
  {
   "cell_type": "code",
   "execution_count": 10,
   "metadata": {},
   "outputs": [],
   "source": [
    "def train_weights(train, l_rate, n_epoch, threshold=0.0):\n",
    "    weights = [0.0 for i in range(len(train[0]))]\n",
    "    for epoch in range(n_epoch):\n",
    "        sum_error = 0.0\n",
    "        for row in train:\n",
    "            prediction1 = prediction(row, weights, threshold)\n",
    "            error = row[-1] - prediction1\n",
    "            sum_error += error**2\n",
    "            weights[0] = weights[0] + l_rate * error\n",
    "            for i in range(len(row) - 1):\n",
    "                weights[i + 1] = weights[i + 1] + l_rate * error * row[i]\n",
    "        print('>epoch=%d, lrate=%.3f, error=%.3f' % (epoch, l_rate, sum_error))\n",
    "    return weights"
   ]
  },
  {
   "cell_type": "markdown",
   "metadata": {},
   "source": [
    "Membuat fungsi testing untuk melakukan testing pada model dengan menggunakan data yang bisa dikustomisasi"
   ]
  },
  {
   "cell_type": "code",
   "execution_count": 11,
   "metadata": {},
   "outputs": [],
   "source": [
    "def testing(data):\n",
    "    true_labels = []\n",
    "    predicted_labels = []\n",
    "    for row in data:\n",
    "        prediction1 = prediction(row, weights, threshold)\n",
    "        # Konversi hasil prediksi ke label kelas\n",
    "        if prediction1 == 1.0:\n",
    "            predicted_label = 'A'\n",
    "        elif prediction1 == -1.0:\n",
    "            predicted_label = 'B'\n",
    "        else:\n",
    "            predicted_label = 'C'\n",
    "        expected_label = row[-1]\n",
    "        print(\"Expected={}, \\tPredicted={} ({})\".format(expected_label, prediction1, predicted_label))\n",
    "        \n",
    "        true_labels.append(expected_label*1.0)\n",
    "        predicted_labels.append(prediction1)\n",
    "    return true_labels, predicted_labels"
   ]
  },
  {
   "cell_type": "markdown",
   "metadata": {},
   "source": [
    "### Drive Code\n",
    "\n",
    "Cell ini berfungsi sebagai main/drive code untuk meanggunakan model single layer yang sudah dibuat sebelumnya.\n",
    "\n",
    "Terdapat beberapa parameter yang perlu diisi antara lain l_rate, n_epoch, dan treshold."
   ]
  },
  {
   "cell_type": "code",
   "execution_count": 12,
   "metadata": {},
   "outputs": [
    {
     "name": "stdout",
     "output_type": "stream",
     "text": [
      ">epoch=0, lrate=0.050, error=24.000\n",
      ">epoch=1, lrate=0.050, error=12.000\n",
      ">epoch=2, lrate=0.050, error=8.000\n",
      ">epoch=3, lrate=0.050, error=12.000\n",
      ">epoch=4, lrate=0.050, error=4.000\n",
      ">epoch=5, lrate=0.050, error=8.000\n",
      ">epoch=6, lrate=0.050, error=4.000\n",
      ">epoch=7, lrate=0.050, error=4.000\n",
      ">epoch=8, lrate=0.050, error=4.000\n",
      ">epoch=9, lrate=0.050, error=4.000\n",
      ">epoch=10, lrate=0.050, error=4.000\n",
      ">epoch=11, lrate=0.050, error=4.000\n",
      ">epoch=12, lrate=0.050, error=4.000\n",
      ">epoch=13, lrate=0.050, error=12.000\n",
      ">epoch=14, lrate=0.050, error=4.000\n",
      ">epoch=15, lrate=0.050, error=4.000\n",
      ">epoch=16, lrate=0.050, error=4.000\n",
      ">epoch=17, lrate=0.050, error=4.000\n",
      ">epoch=18, lrate=0.050, error=8.000\n",
      ">epoch=19, lrate=0.050, error=8.000\n",
      ">epoch=20, lrate=0.050, error=4.000\n",
      ">epoch=21, lrate=0.050, error=4.000\n",
      ">epoch=22, lrate=0.050, error=4.000\n",
      ">epoch=23, lrate=0.050, error=4.000\n",
      ">epoch=24, lrate=0.050, error=4.000\n",
      ">epoch=25, lrate=0.050, error=4.000\n",
      ">epoch=26, lrate=0.050, error=4.000\n",
      ">epoch=27, lrate=0.050, error=4.000\n",
      ">epoch=28, lrate=0.050, error=4.000\n",
      ">epoch=29, lrate=0.050, error=4.000\n",
      ">epoch=30, lrate=0.050, error=4.000\n",
      ">epoch=31, lrate=0.050, error=4.000\n",
      ">epoch=32, lrate=0.050, error=12.000\n",
      ">epoch=33, lrate=0.050, error=4.000\n",
      ">epoch=34, lrate=0.050, error=4.000\n",
      ">epoch=35, lrate=0.050, error=4.000\n",
      ">epoch=36, lrate=0.050, error=4.000\n",
      ">epoch=37, lrate=0.050, error=4.000\n",
      ">epoch=38, lrate=0.050, error=4.000\n",
      ">epoch=39, lrate=0.050, error=4.000\n",
      ">epoch=40, lrate=0.050, error=4.000\n",
      ">epoch=41, lrate=0.050, error=4.000\n",
      ">epoch=42, lrate=0.050, error=4.000\n",
      ">epoch=43, lrate=0.050, error=4.000\n",
      ">epoch=44, lrate=0.050, error=4.000\n",
      ">epoch=45, lrate=0.050, error=8.000\n",
      ">epoch=46, lrate=0.050, error=4.000\n",
      ">epoch=47, lrate=0.050, error=4.000\n",
      ">epoch=48, lrate=0.050, error=4.000\n",
      ">epoch=49, lrate=0.050, error=4.000\n",
      "Weights :  [0.30000000000000004, -0.1, -0.2, -0.1, -0.6, 0.2400000000000001, 0.115]\n"
     ]
    }
   ],
   "source": [
    "l_rate = 0.05\n",
    "n_epoch = 50\n",
    "threshold = 0.2  # Threshold digunakan pada fungsi aktivasi bipolar\n",
    "weights = train_weights(dataInpTr, l_rate, n_epoch, threshold)\n",
    "print('Weights : ', weights)"
   ]
  },
  {
   "cell_type": "markdown",
   "metadata": {},
   "source": [
    "### Testing\n",
    "\n",
    "Menginisialisasi data testing. Dalam hal ini data testing yang digunakan sama dengan data latih untuk mengukur akurasi model perceptron yang sudah dibangun"
   ]
  },
  {
   "cell_type": "code",
   "execution_count": 13,
   "metadata": {},
   "outputs": [],
   "source": [
    "data_testing = [[1, 0, 0, 0, 1, 0, 1],\n",
    "                [0, 1, 1, 1, 1, 0, -1],\n",
    "                [0, 0, 1, 0, 0, 1, 1],\n",
    "                [0, 0, 1, 0, 1, 0, 1],\n",
    "                [0, 1, 0, 0, 0, 1, 1],\n",
    "                [1, 0, 1, 0, 1, 1, 1],\n",
    "                [0, 0, 1, 1, 0, 0, -1],\n",
    "                [0, 1, 0, 1, 0, 0, -1],\n",
    "                [1, 0, 0, 1, 0, 1, -1],\n",
    "                [0, 1, 1, 1, 1, 1, -1],\n",
    "                [0, 0, 0, 1, 1, 0.9, 0],\n",
    "                [0, 0, 0, 1, 0.8, 1, 0],\n",
    "                [0, 0, 0, 1, 1, 0.75, 0],\n",
    "                [0, 0, 0, 1, 1, 1, 0]]"
   ]
  },
  {
   "cell_type": "markdown",
   "metadata": {},
   "source": [
    "Membuat Metrik evaluasi <b>berupa accuracy</b>, <b>confusion matrix</b> dan <b>classification</b> report menggunakan library scikit-learn"
   ]
  },
  {
   "cell_type": "code",
   "execution_count": 14,
   "metadata": {},
   "outputs": [
    {
     "name": "stdout",
     "output_type": "stream",
     "text": [
      "Expected=1, \tPredicted=1.0 (A)\n",
      "Expected=-1, \tPredicted=-1.0 (B)\n",
      "Expected=1, \tPredicted=1.0 (A)\n",
      "Expected=1, \tPredicted=1.0 (A)\n",
      "Expected=1, \tPredicted=1.0 (A)\n",
      "Expected=1, \tPredicted=1.0 (A)\n",
      "Expected=-1, \tPredicted=-1.0 (B)\n",
      "Expected=-1, \tPredicted=-1.0 (B)\n",
      "Expected=-1, \tPredicted=-1.0 (B)\n",
      "Expected=-1, \tPredicted=-1.0 (B)\n",
      "Expected=0, \tPredicted=-1.0 (B)\n",
      "Expected=0, \tPredicted=-1.0 (B)\n",
      "Expected=0, \tPredicted=-1.0 (B)\n",
      "Expected=0, \tPredicted=-1.0 (B)\n",
      "\n",
      "\n",
      "Akurasi: 0.71%\n",
      "Confusion Matrix:\n",
      "[[5 0 0]\n",
      " [4 0 0]\n",
      " [0 0 5]]\n",
      "\n",
      "Classification Report:\n",
      "              precision    recall  f1-score   support\n",
      "\n",
      "           A       0.56      1.00      0.71         5\n",
      "           B       0.00      0.00      0.00         4\n",
      "           C       1.00      1.00      1.00         5\n",
      "\n",
      "    accuracy                           0.71        14\n",
      "   macro avg       0.52      0.67      0.57        14\n",
      "weighted avg       0.56      0.71      0.61        14\n",
      "\n"
     ]
    },
    {
     "name": "stderr",
     "output_type": "stream",
     "text": [
      "/home/mizanul/Documents/code/.venv/lib/python3.10/site-packages/sklearn/metrics/_classification.py:1469: UndefinedMetricWarning: Precision and F-score are ill-defined and being set to 0.0 in labels with no predicted samples. Use `zero_division` parameter to control this behavior.\n",
      "  _warn_prf(average, modifier, msg_start, len(result))\n",
      "/home/mizanul/Documents/code/.venv/lib/python3.10/site-packages/sklearn/metrics/_classification.py:1469: UndefinedMetricWarning: Precision and F-score are ill-defined and being set to 0.0 in labels with no predicted samples. Use `zero_division` parameter to control this behavior.\n",
      "  _warn_prf(average, modifier, msg_start, len(result))\n",
      "/home/mizanul/Documents/code/.venv/lib/python3.10/site-packages/sklearn/metrics/_classification.py:1469: UndefinedMetricWarning: Precision and F-score are ill-defined and being set to 0.0 in labels with no predicted samples. Use `zero_division` parameter to control this behavior.\n",
      "  _warn_prf(average, modifier, msg_start, len(result))\n"
     ]
    }
   ],
   "source": [
    "true_labels, predicted_labels = testing(data_testing)\n",
    "\n",
    "accuracy = accuracy_score(true_labels, predicted_labels)\n",
    "print(\"\\n\\nAkurasi: %.2f%%\" % accuracy)\n",
    "\n",
    "# Menghitung dan mencetak confusion matrix\n",
    "confusion = confusion_matrix(true_labels, predicted_labels)\n",
    "print(\"Confusion Matrix:\")\n",
    "print(confusion)\n",
    "\n",
    "# Mencetak classification report\n",
    "classification_rep = classification_report(true_labels, predicted_labels, target_names=['A', 'B', 'C'])\n",
    "print(\"\\nClassification Report:\")\n",
    "print(classification_rep)"
   ]
  }
 ],
 "metadata": {
  "kernelspec": {
   "display_name": "Python 3",
   "language": "python",
   "name": "python3"
  },
  "language_info": {
   "codemirror_mode": {
    "name": "ipython",
    "version": 3
   },
   "file_extension": ".py",
   "mimetype": "text/x-python",
   "name": "python",
   "nbconvert_exporter": "python",
   "pygments_lexer": "ipython3",
   "version": "3.10.12"
  }
 },
 "nbformat": 4,
 "nbformat_minor": 4
}
