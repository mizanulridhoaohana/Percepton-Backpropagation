{
 "cells": [
  {
   "cell_type": "markdown",
   "metadata": {},
   "source": [
    "# Multi Layer Perceptron (MLP) Back Propagation"
   ]
  },
  {
   "cell_type": "markdown",
   "metadata": {},
   "source": [
    "Import Library"
   ]
  },
  {
   "cell_type": "code",
   "execution_count": 1,
   "metadata": {},
   "outputs": [],
   "source": [
    "import numpy as np \n",
    "from sklearn.model_selection import train_test_split\n",
    "from sklearn.neural_network import MLPClassifier\n",
    "from sklearn.metrics import confusion_matrix\n",
    "from sklearn.metrics import classification_report\n",
    "from sklearn.metrics import accuracy_score"
   ]
  },
  {
   "cell_type": "markdown",
   "metadata": {},
   "source": [
    "Menginisialisasikan dataset, weight dan kelas yang akan diprediksi dalam model"
   ]
  },
  {
   "cell_type": "code",
   "execution_count": 2,
   "metadata": {},
   "outputs": [],
   "source": [
    "dataset =[[1, 0, 0, 0, 1, 0],\n",
    "          [0, 1, 1, 1, 1, 0],\n",
    "          [0, 0, 1, 0, 0, 1],\n",
    "          [0, 0, 1, 0, 1, 0],\n",
    "          [0, 1, 0, 0, 0, 1],\n",
    "          [1, 0, 1, 0, 1, 1],\n",
    "          [0, 0, 1, 1, 0, 0],\n",
    "          [0, 1, 0, 1, 0, 0],\n",
    "          [1, 0, 0, 1, 0, 1],\n",
    "          [0, 1, 1, 1, 1, 1],\n",
    "          [0, 0, 0, 1, 1, 0.9],\n",
    "          [0, 0, 0, 1, 0.8, 1],\n",
    "          [0, 0, 0, 1, 1, 0.75],\n",
    "          [0, 0, 0, 1, 1, 1]]\n",
    "    \n",
    "weights = [0.0, 0.0, 0.0, 0.0, 0.0, 0.0 ]\n",
    "class_target = ['A', 'B', 'A', 'A', 'A', 'A', 'B', 'B', 'B', 'B', 'C', 'C', 'C', 'C']"
   ]
  },
  {
   "cell_type": "markdown",
   "metadata": {},
   "source": [
    "Membuat matrix transpose dan Menerjemahkan class target ke dalam bentuk integer, dimana:\n",
    "A = 1,\n",
    "B = -1,\n",
    "C = 0"
   ]
  },
  {
   "cell_type": "code",
   "execution_count": 3,
   "metadata": {},
   "outputs": [],
   "source": [
    "#Transpose Matrix\n",
    "class_target = np.array(class_target)\n",
    "dataTr = np.arange(len(class_target))\n",
    "dataTr[:] = 0\n",
    "\n",
    "# Menerjemahkan class ke dalam bentuk integer\n",
    "iD_dataTr = np.where(class_target == 'A')\n",
    "dataTr[iD_dataTr] = 1\n",
    "iD_dataTr = np.where(class_target == 'B')\n",
    "dataTr[iD_dataTr] = -1\n",
    "dataTr = dataTr.tolist()"
   ]
  },
  {
   "cell_type": "markdown",
   "metadata": {},
   "source": [
    "Kode ini digunakan untuk melakukan transpose pada dataset, kemudian menambahkan dataTr sebagai baris terakhir dari dataset yang sudah ditranspose"
   ]
  },
  {
   "cell_type": "code",
   "execution_count": 4,
   "metadata": {},
   "outputs": [],
   "source": [
    "transpseX = list(map(list, zip(*dataset)))\n",
    "transpseX.append(dataTr)\n",
    "dataInpTr = list(map(list, zip(*transpseX)))"
   ]
  },
  {
   "cell_type": "code",
   "execution_count": 5,
   "metadata": {},
   "outputs": [
    {
     "data": {
      "text/plain": [
       "[[1, 0, 0, 0, 1, 0, 1],\n",
       " [0, 1, 1, 1, 1, 0, -1],\n",
       " [0, 0, 1, 0, 0, 1, 1],\n",
       " [0, 0, 1, 0, 1, 0, 1],\n",
       " [0, 1, 0, 0, 0, 1, 1],\n",
       " [1, 0, 1, 0, 1, 1, 1],\n",
       " [0, 0, 1, 1, 0, 0, -1],\n",
       " [0, 1, 0, 1, 0, 0, -1],\n",
       " [1, 0, 0, 1, 0, 1, -1],\n",
       " [0, 1, 1, 1, 1, 1, -1],\n",
       " [0, 0, 0, 1, 1, 0.9, 0],\n",
       " [0, 0, 0, 1, 0.8, 1, 0],\n",
       " [0, 0, 0, 1, 1, 0.75, 0],\n",
       " [0, 0, 0, 1, 1, 1, 0]]"
      ]
     },
     "execution_count": 5,
     "metadata": {},
     "output_type": "execute_result"
    }
   ],
   "source": [
    "dataInpTr"
   ]
  },
  {
   "cell_type": "code",
   "execution_count": 6,
   "metadata": {},
   "outputs": [],
   "source": [
    "# Convert menjadi numpy array\n",
    "dataInpTr=np.array(dataInpTr)"
   ]
  },
  {
   "cell_type": "markdown",
   "metadata": {},
   "source": [
    "Membuat model ANN menggunakan method MLPClassifier dari scikit-learn.\n",
    "\n",
    "Dalam Pendefinisiannya, fungsi aktivasi yang digunakan adalah sigmoid. Method MLPClassifier menggunakan fungsi activation='logistic' untuk menerapkan sigmoid function dalam neural network."
   ]
  },
  {
   "cell_type": "code",
   "execution_count": 7,
   "metadata": {},
   "outputs": [
    {
     "name": "stdout",
     "output_type": "stream",
     "text": [
      "Data Input = \n",
      "[[ 1.    0.    0.    0.    1.    0.    1.  ]\n",
      " [ 0.    1.    1.    1.    1.    0.   -1.  ]\n",
      " [ 0.    0.    1.    0.    0.    1.    1.  ]\n",
      " [ 0.    0.    1.    0.    1.    0.    1.  ]\n",
      " [ 0.    1.    0.    0.    0.    1.    1.  ]\n",
      " [ 1.    0.    1.    0.    1.    1.    1.  ]\n",
      " [ 0.    0.    1.    1.    0.    0.   -1.  ]\n",
      " [ 0.    1.    0.    1.    0.    0.   -1.  ]\n",
      " [ 1.    0.    0.    1.    0.    1.   -1.  ]\n",
      " [ 0.    1.    1.    1.    1.    1.   -1.  ]\n",
      " [ 0.    0.    0.    1.    1.    0.9   0.  ]\n",
      " [ 0.    0.    0.    1.    0.8   1.    0.  ]\n",
      " [ 0.    0.    0.    1.    1.    0.75  0.  ]\n",
      " [ 0.    0.    0.    1.    1.    1.    0.  ]]\n"
     ]
    }
   ],
   "source": [
    "print(\"Data Input = \" )\n",
    "print(dataInpTr)\n",
    "\n",
    "# Persiapan data\n",
    "x = dataInpTr[:,:-1]\n",
    "y = dataInpTr[:,-1]\n",
    "\n",
    "# Mendefinisikan ANN Backpropagation\n",
    "mlp = MLPClassifier(learning_rate_init=0.25, activation='logistic', hidden_layer_sizes=(6,3), max_iter=100, alpha=1e-4, \n",
    "                    solver='sgd', verbose=0, tol=1e-4, random_state=1, batch_size=20)"
   ]
  },
  {
   "cell_type": "code",
   "execution_count": 8,
   "metadata": {},
   "outputs": [
    {
     "name": "stdout",
     "output_type": "stream",
     "text": [
      "============================ TRAINING ===========================\n",
      "==> WEIGHT\n",
      "Bobot antara input dan lapisan tersembunyi pertama : \n",
      "[[ 0.68401058  1.31243724 -1.34192955 -0.3379497  -0.81021362 -1.06203427]\n",
      " [ 0.12177952  0.98536997 -1.63958903  0.13281764 -0.40997788 -0.59450106]\n",
      " [ 0.39799419  1.23750036 -1.66032178  0.13236017 -0.60863335 -0.78738264]\n",
      " [-2.63963503 -2.66742894  1.24817169  1.36440729  1.14182542  1.43785099]\n",
      " [-0.26504229 -0.93698655  1.06640947 -0.28220198  0.21423581  0.9228577 ]\n",
      " [-0.03928549  0.04771054  0.75783867 -0.14549069  0.2366947  -0.0870834 ]]\n",
      "\n",
      "Bobot antara lapisan tersembunyi pertama dan lapisan tersembunyi kedua : \n",
      "[[ 0.47260867  2.20130542 -2.22785787]\n",
      " [ 1.87034175  3.35298769 -2.47186611]\n",
      " [-2.38333901 -2.34585671  1.01442479]\n",
      " [ 0.82969421 -0.70370256  1.07479012]\n",
      " [-0.30496992 -0.96595747  0.93148426]\n",
      " [-0.99107438 -1.21106658  1.71560145]]\n",
      "\n",
      "Bobot antara lapisan tersembunyi kedua dan lapisan output : \n",
      "[[ 1.39742626 -2.9368748   0.96307868]\n",
      " [ 0.14073621 -3.98825079  4.56603435]\n",
      " [ 1.22939376  3.03767453 -4.12016419]]\n",
      "\n",
      "============================ TRAINING RESULT ============================\n",
      "Expected=1, Predicted=1\n",
      "Expected=-1, Predicted=-1\n",
      "Expected=1, Predicted=1\n",
      "Expected=1, Predicted=1\n",
      "Expected=1, Predicted=1\n",
      "Expected=1, Predicted=1\n",
      "Expected=-1, Predicted=-1\n",
      "Expected=-1, Predicted=-1\n",
      "Expected=-1, Predicted=-1\n",
      "Expected=-1, Predicted=-1\n",
      "Expected=0, Predicted=0\n",
      "Expected=0, Predicted=0\n",
      "Expected=0, Predicted=0\n",
      "Expected=0, Predicted=0\n"
     ]
    },
    {
     "name": "stderr",
     "output_type": "stream",
     "text": [
      "/home/mizanul/Documents/code/.venv/lib/python3.10/site-packages/sklearn/neural_network/_multilayer_perceptron.py:609: UserWarning: Got `batch_size` less than 1 or larger than sample size. It is going to be clipped\n",
      "  warnings.warn(\n",
      "/home/mizanul/Documents/code/.venv/lib/python3.10/site-packages/sklearn/neural_network/_multilayer_perceptron.py:691: ConvergenceWarning: Stochastic Optimizer: Maximum iterations (100) reached and the optimization hasn't converged yet.\n",
      "  warnings.warn(\n",
      "/tmp/ipykernel_48838/1224418573.py:15: DeprecationWarning: Conversion of an array with ndim > 0 to a scalar is deprecated, and will error in future. Ensure you extract a single element from your array before performing this operation. (Deprecated NumPy 1.25.)\n",
      "  print(\"Expected=%d, Predicted=%d\" % (y[i], prediction))\n",
      "/tmp/ipykernel_48838/1224418573.py:15: DeprecationWarning: Conversion of an array with ndim > 0 to a scalar is deprecated, and will error in future. Ensure you extract a single element from your array before performing this operation. (Deprecated NumPy 1.25.)\n",
      "  print(\"Expected=%d, Predicted=%d\" % (y[i], prediction))\n",
      "/tmp/ipykernel_48838/1224418573.py:15: DeprecationWarning: Conversion of an array with ndim > 0 to a scalar is deprecated, and will error in future. Ensure you extract a single element from your array before performing this operation. (Deprecated NumPy 1.25.)\n",
      "  print(\"Expected=%d, Predicted=%d\" % (y[i], prediction))\n",
      "/tmp/ipykernel_48838/1224418573.py:15: DeprecationWarning: Conversion of an array with ndim > 0 to a scalar is deprecated, and will error in future. Ensure you extract a single element from your array before performing this operation. (Deprecated NumPy 1.25.)\n",
      "  print(\"Expected=%d, Predicted=%d\" % (y[i], prediction))\n",
      "/tmp/ipykernel_48838/1224418573.py:15: DeprecationWarning: Conversion of an array with ndim > 0 to a scalar is deprecated, and will error in future. Ensure you extract a single element from your array before performing this operation. (Deprecated NumPy 1.25.)\n",
      "  print(\"Expected=%d, Predicted=%d\" % (y[i], prediction))\n",
      "/tmp/ipykernel_48838/1224418573.py:15: DeprecationWarning: Conversion of an array with ndim > 0 to a scalar is deprecated, and will error in future. Ensure you extract a single element from your array before performing this operation. (Deprecated NumPy 1.25.)\n",
      "  print(\"Expected=%d, Predicted=%d\" % (y[i], prediction))\n",
      "/tmp/ipykernel_48838/1224418573.py:15: DeprecationWarning: Conversion of an array with ndim > 0 to a scalar is deprecated, and will error in future. Ensure you extract a single element from your array before performing this operation. (Deprecated NumPy 1.25.)\n",
      "  print(\"Expected=%d, Predicted=%d\" % (y[i], prediction))\n",
      "/tmp/ipykernel_48838/1224418573.py:15: DeprecationWarning: Conversion of an array with ndim > 0 to a scalar is deprecated, and will error in future. Ensure you extract a single element from your array before performing this operation. (Deprecated NumPy 1.25.)\n",
      "  print(\"Expected=%d, Predicted=%d\" % (y[i], prediction))\n",
      "/tmp/ipykernel_48838/1224418573.py:15: DeprecationWarning: Conversion of an array with ndim > 0 to a scalar is deprecated, and will error in future. Ensure you extract a single element from your array before performing this operation. (Deprecated NumPy 1.25.)\n",
      "  print(\"Expected=%d, Predicted=%d\" % (y[i], prediction))\n",
      "/tmp/ipykernel_48838/1224418573.py:15: DeprecationWarning: Conversion of an array with ndim > 0 to a scalar is deprecated, and will error in future. Ensure you extract a single element from your array before performing this operation. (Deprecated NumPy 1.25.)\n",
      "  print(\"Expected=%d, Predicted=%d\" % (y[i], prediction))\n",
      "/tmp/ipykernel_48838/1224418573.py:15: DeprecationWarning: Conversion of an array with ndim > 0 to a scalar is deprecated, and will error in future. Ensure you extract a single element from your array before performing this operation. (Deprecated NumPy 1.25.)\n",
      "  print(\"Expected=%d, Predicted=%d\" % (y[i], prediction))\n",
      "/tmp/ipykernel_48838/1224418573.py:15: DeprecationWarning: Conversion of an array with ndim > 0 to a scalar is deprecated, and will error in future. Ensure you extract a single element from your array before performing this operation. (Deprecated NumPy 1.25.)\n",
      "  print(\"Expected=%d, Predicted=%d\" % (y[i], prediction))\n",
      "/tmp/ipykernel_48838/1224418573.py:15: DeprecationWarning: Conversion of an array with ndim > 0 to a scalar is deprecated, and will error in future. Ensure you extract a single element from your array before performing this operation. (Deprecated NumPy 1.25.)\n",
      "  print(\"Expected=%d, Predicted=%d\" % (y[i], prediction))\n",
      "/tmp/ipykernel_48838/1224418573.py:15: DeprecationWarning: Conversion of an array with ndim > 0 to a scalar is deprecated, and will error in future. Ensure you extract a single element from your array before performing this operation. (Deprecated NumPy 1.25.)\n",
      "  print(\"Expected=%d, Predicted=%d\" % (y[i], prediction))\n"
     ]
    }
   ],
   "source": [
    "print(\"============================ TRAINING ===========================\" )\n",
    "#Melakukan training\n",
    "mlp.fit(x,y)\n",
    "print(\"==> WEIGHT\" )\n",
    "print(\"Bobot antara input dan lapisan tersembunyi pertama : \")\n",
    "print(mlp.coefs_[0])\n",
    "print(\"\\nBobot antara lapisan tersembunyi pertama dan lapisan tersembunyi kedua : \")\n",
    "print(mlp.coefs_[1])\n",
    "print(\"\\nBobot antara lapisan tersembunyi kedua dan lapisan output : \")\n",
    "print(mlp.coefs_[2])\n",
    "print(\"\\n============================ TRAINING RESULT ============================\" )\n",
    "i = 0;\n",
    "for row in x:\n",
    "    prediction = mlp.predict(row.reshape(1,-1))\n",
    "    print(\"Expected=%d, Predicted=%d\" % (y[i], prediction))\n",
    "    i = i+1"
   ]
  },
  {
   "cell_type": "code",
   "execution_count": 9,
   "metadata": {},
   "outputs": [],
   "source": [
    "dataset_testing = train_test_split(dataset, dataTr, test_size = 0.2, stratify = dataTr)\n",
    "trainX, testX, trainY, testY = dataset_testing"
   ]
  },
  {
   "cell_type": "markdown",
   "metadata": {},
   "source": [
    "Membuat model ANN Back Propagation menggunakan method MLPClassifier dari scikit-learn.\n",
    "\n",
    "Dalam Pendefinisiannya, fungsi aktivasi yang digunakan adalah sigmoid. Method MLPClassifier menggunakan fungsi activation='logistic' untuk menerapkan sigmoid function dalam neural network."
   ]
  },
  {
   "cell_type": "code",
   "execution_count": 10,
   "metadata": {},
   "outputs": [
    {
     "data": {
      "text/html": [
       "<style>#sk-container-id-1 {color: black;}#sk-container-id-1 pre{padding: 0;}#sk-container-id-1 div.sk-toggleable {background-color: white;}#sk-container-id-1 label.sk-toggleable__label {cursor: pointer;display: block;width: 100%;margin-bottom: 0;padding: 0.3em;box-sizing: border-box;text-align: center;}#sk-container-id-1 label.sk-toggleable__label-arrow:before {content: \"▸\";float: left;margin-right: 0.25em;color: #696969;}#sk-container-id-1 label.sk-toggleable__label-arrow:hover:before {color: black;}#sk-container-id-1 div.sk-estimator:hover label.sk-toggleable__label-arrow:before {color: black;}#sk-container-id-1 div.sk-toggleable__content {max-height: 0;max-width: 0;overflow: hidden;text-align: left;background-color: #f0f8ff;}#sk-container-id-1 div.sk-toggleable__content pre {margin: 0.2em;color: black;border-radius: 0.25em;background-color: #f0f8ff;}#sk-container-id-1 input.sk-toggleable__control:checked~div.sk-toggleable__content {max-height: 200px;max-width: 100%;overflow: auto;}#sk-container-id-1 input.sk-toggleable__control:checked~label.sk-toggleable__label-arrow:before {content: \"▾\";}#sk-container-id-1 div.sk-estimator input.sk-toggleable__control:checked~label.sk-toggleable__label {background-color: #d4ebff;}#sk-container-id-1 div.sk-label input.sk-toggleable__control:checked~label.sk-toggleable__label {background-color: #d4ebff;}#sk-container-id-1 input.sk-hidden--visually {border: 0;clip: rect(1px 1px 1px 1px);clip: rect(1px, 1px, 1px, 1px);height: 1px;margin: -1px;overflow: hidden;padding: 0;position: absolute;width: 1px;}#sk-container-id-1 div.sk-estimator {font-family: monospace;background-color: #f0f8ff;border: 1px dotted black;border-radius: 0.25em;box-sizing: border-box;margin-bottom: 0.5em;}#sk-container-id-1 div.sk-estimator:hover {background-color: #d4ebff;}#sk-container-id-1 div.sk-parallel-item::after {content: \"\";width: 100%;border-bottom: 1px solid gray;flex-grow: 1;}#sk-container-id-1 div.sk-label:hover label.sk-toggleable__label {background-color: #d4ebff;}#sk-container-id-1 div.sk-serial::before {content: \"\";position: absolute;border-left: 1px solid gray;box-sizing: border-box;top: 0;bottom: 0;left: 50%;z-index: 0;}#sk-container-id-1 div.sk-serial {display: flex;flex-direction: column;align-items: center;background-color: white;padding-right: 0.2em;padding-left: 0.2em;position: relative;}#sk-container-id-1 div.sk-item {position: relative;z-index: 1;}#sk-container-id-1 div.sk-parallel {display: flex;align-items: stretch;justify-content: center;background-color: white;position: relative;}#sk-container-id-1 div.sk-item::before, #sk-container-id-1 div.sk-parallel-item::before {content: \"\";position: absolute;border-left: 1px solid gray;box-sizing: border-box;top: 0;bottom: 0;left: 50%;z-index: -1;}#sk-container-id-1 div.sk-parallel-item {display: flex;flex-direction: column;z-index: 1;position: relative;background-color: white;}#sk-container-id-1 div.sk-parallel-item:first-child::after {align-self: flex-end;width: 50%;}#sk-container-id-1 div.sk-parallel-item:last-child::after {align-self: flex-start;width: 50%;}#sk-container-id-1 div.sk-parallel-item:only-child::after {width: 0;}#sk-container-id-1 div.sk-dashed-wrapped {border: 1px dashed gray;margin: 0 0.4em 0.5em 0.4em;box-sizing: border-box;padding-bottom: 0.4em;background-color: white;}#sk-container-id-1 div.sk-label label {font-family: monospace;font-weight: bold;display: inline-block;line-height: 1.2em;}#sk-container-id-1 div.sk-label-container {text-align: center;}#sk-container-id-1 div.sk-container {/* jupyter's `normalize.less` sets `[hidden] { display: none; }` but bootstrap.min.css set `[hidden] { display: none !important; }` so we also need the `!important` here to be able to override the default hidden behavior on the sphinx rendered scikit-learn.org. See: https://github.com/scikit-learn/scikit-learn/issues/21755 */display: inline-block !important;position: relative;}#sk-container-id-1 div.sk-text-repr-fallback {display: none;}</style><div id=\"sk-container-id-1\" class=\"sk-top-container\"><div class=\"sk-text-repr-fallback\"><pre>MLPClassifier(activation=&#x27;logistic&#x27;, hidden_layer_sizes=(10, 5),\n",
       "              learning_rate_init=0.5, max_iter=5000, random_state=1,\n",
       "              solver=&#x27;lbfgs&#x27;, verbose=0)</pre><b>In a Jupyter environment, please rerun this cell to show the HTML representation or trust the notebook. <br />On GitHub, the HTML representation is unable to render, please try loading this page with nbviewer.org.</b></div><div class=\"sk-container\" hidden><div class=\"sk-item\"><div class=\"sk-estimator sk-toggleable\"><input class=\"sk-toggleable__control sk-hidden--visually\" id=\"sk-estimator-id-1\" type=\"checkbox\" checked><label for=\"sk-estimator-id-1\" class=\"sk-toggleable__label sk-toggleable__label-arrow\">MLPClassifier</label><div class=\"sk-toggleable__content\"><pre>MLPClassifier(activation=&#x27;logistic&#x27;, hidden_layer_sizes=(10, 5),\n",
       "              learning_rate_init=0.5, max_iter=5000, random_state=1,\n",
       "              solver=&#x27;lbfgs&#x27;, verbose=0)</pre></div></div></div></div></div>"
      ],
      "text/plain": [
       "MLPClassifier(activation='logistic', hidden_layer_sizes=(10, 5),\n",
       "              learning_rate_init=0.5, max_iter=5000, random_state=1,\n",
       "              solver='lbfgs', verbose=0)"
      ]
     },
     "execution_count": 10,
     "metadata": {},
     "output_type": "execute_result"
    }
   ],
   "source": [
    "#Pembuatan ANN Back Propagation\n",
    "mlpBP = MLPClassifier(learning_rate_init=0.5, activation='logistic', hidden_layer_sizes=(10,5), max_iter=5000, \n",
    "                      alpha=1e-4, solver='lbfgs', verbose=0, tol=1e-4, random_state=1)\n",
    "\n",
    "#Melakukan TRAINNING\n",
    "mlpBP.fit(trainX, trainY)"
   ]
  },
  {
   "cell_type": "markdown",
   "metadata": {},
   "source": [
    "Inisialisasi fungsi evaluasi model"
   ]
  },
  {
   "cell_type": "code",
   "execution_count": 11,
   "metadata": {},
   "outputs": [],
   "source": [
    "def generateClassificationReport(y_test,y_pred):\n",
    "    print(classification_report(y_test,y_pred))\n",
    "    print(confusion_matrix(y_test,y_pred))\n",
    "    print('Accuracy ', accuracy_score(y_test,y_pred))"
   ]
  },
  {
   "cell_type": "code",
   "execution_count": 12,
   "metadata": {},
   "outputs": [
    {
     "name": "stdout",
     "output_type": "stream",
     "text": [
      "\n",
      "===================== HASIL PREDIKSI TRAINING ======================\n",
      "              precision    recall  f1-score   support\n",
      "\n",
      "          -1       1.00      1.00      1.00         4\n",
      "           0       1.00      1.00      1.00         3\n",
      "           1       1.00      1.00      1.00         4\n",
      "\n",
      "    accuracy                           1.00        11\n",
      "   macro avg       1.00      1.00      1.00        11\n",
      "weighted avg       1.00      1.00      1.00        11\n",
      "\n",
      "[[4 0 0]\n",
      " [0 3 0]\n",
      " [0 0 4]]\n",
      "Accuracy  1.0\n"
     ]
    }
   ],
   "source": [
    "print(\"\\n===================== HASIL PREDIKSI TRAINING ======================\" )\n",
    "pred_y = mlpBP.predict(trainX)\n",
    "generateClassificationReport(trainY,pred_y)"
   ]
  },
  {
   "cell_type": "code",
   "execution_count": 13,
   "metadata": {},
   "outputs": [
    {
     "name": "stdout",
     "output_type": "stream",
     "text": [
      "\n",
      "===================== HASIL PREDIKSI TESTING ======================\n",
      "              precision    recall  f1-score   support\n",
      "\n",
      "          -1       1.00      1.00      1.00         1\n",
      "           0       1.00      1.00      1.00         1\n",
      "           1       1.00      1.00      1.00         1\n",
      "\n",
      "    accuracy                           1.00         3\n",
      "   macro avg       1.00      1.00      1.00         3\n",
      "weighted avg       1.00      1.00      1.00         3\n",
      "\n",
      "[[1 0 0]\n",
      " [0 1 0]\n",
      " [0 0 1]]\n",
      "Accuracy  1.0\n"
     ]
    }
   ],
   "source": [
    "print(\"\\n===================== HASIL PREDIKSI TESTING ======================\" )\n",
    "pred_y = mlpBP.predict(testX)\n",
    "generateClassificationReport(testY, pred_y)"
   ]
  },
  {
   "cell_type": "code",
   "execution_count": null,
   "metadata": {},
   "outputs": [],
   "source": []
  }
 ],
 "metadata": {
  "kernelspec": {
   "display_name": ".venv",
   "language": "python",
   "name": "python3"
  },
  "language_info": {
   "codemirror_mode": {
    "name": "ipython",
    "version": 3
   },
   "file_extension": ".py",
   "mimetype": "text/x-python",
   "name": "python",
   "nbconvert_exporter": "python",
   "pygments_lexer": "ipython3",
   "version": "3.10.12"
  },
  "orig_nbformat": 4
 },
 "nbformat": 4,
 "nbformat_minor": 2
}
